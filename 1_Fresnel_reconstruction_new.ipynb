{
 "cells": [
  {
   "cell_type": "markdown",
   "metadata": {},
   "source": [
    "# Reconstructing an *off-axis* hologram by Fresnel Approximation\n",
    "\n",
    "Reference: Digital holography and wavefront sensing by Ulf Schnars, Claas Falldorf, John Watson, and Werner Jüptner, Springer-verlag Berlin an, 2016. (Section 3.2)\n",
    "\n",
    "## Info about the digital hologram:\n",
    "'ulf7.BMP' is a digital hologram created by recording an object at about 1 meter distance with HeNe laser (632.8 nm) and an image sensor with 6.8 µm pixel size. "
   ]
  },
  {
   "cell_type": "code",
   "execution_count": null,
   "metadata": {},
   "outputs": [],
   "source": [
    "#Import libraries realted to matplotlib and mathematical operations\r\n",
    "# %matplotlib inline\r\n",
    "import matplotlib.pyplot as plt\r\n",
    "import matplotlib.image as mpimg\r\n",
    "from PIL import Image\r\n",
    "import numpy as np\r\n",
    "import ipywidgets as widgets\r\n",
    "from IPython.display import display"
   ]
  },
  {
   "cell_type": "code",
   "execution_count": null,
   "metadata": {},
   "outputs": [],
   "source": [
    "# Read the hologram image file\r\n",
    "hologram = Image.open('ulf7.BMP')\r\n",
    "hologram = np.array(hologram).astype(np.float64) #Convert into float type. Crucial for non integer based mathematical operations\r\n",
    "# plot the hologram\r\n",
    "imgplot = plt.imshow(hologram, cmap=\"viridis\")"
   ]
  },
  {
   "cell_type": "markdown",
   "metadata": {},
   "source": [
    "## Some equations from the book!\n",
    "\n",
    "The *Fresnel-Kirchhoff* integral describing diffraction field beyond an aperture is given by the coherent superposition of the secondary waves (section 2.4)\n",
    "\\begin{equation}\n",
    "\\Gamma\\left(\\xi^{\\prime}, \\eta^{\\prime}\\right)=\\frac{i}{\\lambda} \\int_{-\\infty}^{\\infty} \\int_{-\\infty}^{\\infty} A(x, y) \\frac{\\exp \\left(-i \\frac{2 \\pi}{\\lambda} \\rho^{\\prime}\\right)}{\\rho^{\\prime}} Q d x d y\n",
    "\\end{equation}\n",
    "where, $A(x, y)$ is the complex amplitude in the plane of the diffracting aperture, $\\rho^{\\prime}$ is the distance between a point in the aperture plane and a point in the observation plane, and $Q$ is the inclination factor defined to take care of no backward propagation of the diffracted optical field. For holograms, $Q$ is approximately equal to 1.\n",
    "\n",
    "A hologram $h(x,y)$ recorded by a reference light wave $E_{R}(x, y)$ can be reconstructed by a conjugate reference wave $E_{R}^{*}(x, y)$ as described by the following *Fresnel-Kirchhoff* integral\n",
    "\\begin{equation}\n",
    "\\Gamma(\\xi, \\eta)=\\frac{i}{\\lambda} \\int_{-\\infty}^{\\infty} \\int_{-\\infty}^{\\infty} h(x, y) E_{R}^{*}(x, y) \\frac{\\exp \\left(-i \\frac{2 \\pi}{\\lambda} \\rho\\right)}{\\rho} d x d y\n",
    "\\end{equation}\n",
    "with $\\rho = \\sqrt{ (x-\\xi)^2 + (y-\\eta)^2 + d^2 }$. Here $d$ is the distance between the object and hologram planes. Substituting the apprximated *Taylor* expansion of $\\rho$ in above equation leads to the Fresnel reonstruction field relation (see section 3.2 of the book)\n",
    "\\begin{aligned} \\Gamma(\\xi, \\eta)=& \\frac{i}{\\lambda d} \\exp \\left(-i \\frac{2 \\pi}{\\lambda} d\\right) \\exp \\left[-i \\frac{\\pi}{\\lambda d}\\left(\\xi^{2}+\\eta^{2}\\right)\\right] \\times \\int_{-\\infty}^{\\infty} \\int_{-\\infty}^{\\infty} E_{R}^{*}(x, y) h(x, y) \\exp \\left[-i \\frac{\\pi}{\\lambda d}\\left(x^{2}+y^{2}\\right)\\right] \\exp \\left[i \\frac{2 \\pi}{\\lambda d}(x \\xi+y \\eta)\\right] d x d y \\end{aligned}\n",
    "Or, in a digital form by\n",
    "\\begin{aligned} \\Gamma(m, n)=& \\frac{i}{\\lambda d} \\exp \\left(-i \\frac{2 \\pi}{\\lambda} d\\right) \\exp \\left[-i \\pi \\lambda d\\left(\\frac{m^{2}}{N^{2} \\Delta x^{2}}+\\frac{n^{2}}{N^{2} \\Delta y^{2}}\\right)\\right] \\times \\sum_{k=0}^{N-1} \\sum_{l=0}^{N-1} E_{R}^{*}(k, l) h(k, l) \\exp \\left[-i \\frac{\\pi}{\\lambda d}\\left(k^{2} \\Delta x^{2}+l^{2} \\Delta y^{2}\\right)\\right] \\exp \\left[i 2 \\pi\\left(\\frac{k m}{N}+\\frac{l n}{N}\\right)\\right] \\\\ =& C \\times \\sum_{k=0}^{N-1} \\sum_{l=0}^{N-1} E_{R}^{*}(k, l) h(k, l) \\exp \\left[-i \\frac{\\pi}{\\lambda d}\\left(k^{2} \\Delta x^{2}+l^{2} \\Delta y^{2}\\right)\\right] \\exp \\left[i 2 \\pi\\left(\\frac{k m}{N}+\\frac{l n}{N}\\right)\\right] \\end{aligned}\n",
    "where, $h(k,l)$ is the hologram, $N$ is number of pixels in camera sensor (assumed number of rows = number of columns, if not, convert the hologram in such a way prior to the operations), $\\lambda$ is wavelength, $\\Delta x$ and $\\Delta y$ are horizontal and vertical distance of neighboring sensor pixels, and $d$ is the distance of reconstruction. It is easy to see that the last term under discrete integral is actually an IFT (inverse Fourier transform) of a multiple of hologram function and an exponential factor term. C is just a complex constant which does not affect the reconstruction process and $E_{R}^{*}(k, l)$ gets simplified to unity for a plane wave as reconstruction/recording wave."
   ]
  },
  {
   "cell_type": "code",
   "execution_count": null,
   "metadata": {},
   "outputs": [],
   "source": [
    "# User defined reconstruction distance\r\n",
    "w = widgets.FloatSlider(value=-1.054,min=-2.0,max=2.0,step=0.001,\r\n",
    "description='d (in meters):',orientation='horizontal',readout=True,readout_format='.3f',)\r\n",
    "display(w)"
   ]
  },
  {
   "cell_type": "code",
   "execution_count": null,
   "metadata": {},
   "outputs": [],
   "source": [
    "# User define parameters\r\n",
    "Nr,Nc = np.shape(hologram) #number of rows and columns in the hologram\r\n",
    "wavelength = 632.8e-9 #HeNe laser wavelength in SI units i.e. meters\r\n",
    "dx = 6.8e-6 #sensor pixel size in meters\r\n",
    "d = w.value #-1.054 #reconstruction distance in meters\r\n",
    "# prepare the Fresnel operand for the hologram\r\n",
    "Nr = np.linspace(0, Nr-1, Nr)-Nr/2\r\n",
    "Nc = np.linspace(0, Nc-1, Nc)-Nc/2 \r\n",
    "k, l = np.meshgrid(Nc,Nr)\r\n",
    "factor = np.multiply(hologram, np.exp(-1j*np.pi/(wavelength*d)*(np.multiply(k, k)*dx**2 + np.multiply(l, l)*dx**2)))\r\n",
    "reconstructed_field = np.fft.ifftshift(np.fft.ifft2(np.fft.ifftshift(factor))) # Take inverse Fourier transform of the factor\r\n",
    "# plot\r\n",
    "I = np.abs(reconstructed_field)/np.max(np.abs(reconstructed_field)) #normalized intensity profile\r\n",
    "fig = plt.figure(figsize=(10,10)) #setup a blank figure \r\n",
    "plt.imshow(I, cmap=\"hot\", clim=(0.0, 0.3))\r\n",
    "plt.colorbar()"
   ]
  }
 ],
 "metadata": {
  "interpreter": {
   "hash": "1831d018e116b1639fbbc7433491e69d4799413154722ffd5d66a4138b08bc85"
  },
  "kernelspec": {
   "display_name": "Python 3.7.10 64-bit ('testbed': conda)",
   "name": "python3"
  },
  "language_info": {
   "codemirror_mode": {
    "name": "ipython",
    "version": 3
   },
   "file_extension": ".py",
   "mimetype": "text/x-python",
   "name": "python",
   "nbconvert_exporter": "python",
   "pygments_lexer": "ipython3",
   "version": "3.7.10"
  }
 },
 "nbformat": 4,
 "nbformat_minor": 2
}